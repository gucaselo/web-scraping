{
 "cells": [
  {
   "cell_type": "code",
   "execution_count": 1,
   "metadata": {},
   "outputs": [],
   "source": [
    "# Dependencias\n",
    "from bs4 import BeautifulSoup\n",
    "import requests\n",
    "import pymongo\n",
    "from splinter import Browser\n",
    "from selenium import webdriver\n",
    "from webdriver_manager.chrome import ChromeDriverManager"
   ]
  },
  {
   "cell_type": "code",
   "execution_count": 142,
   "metadata": {},
   "outputs": [],
   "source": [
    "executable_path = {'executable_path':'resources/chromedriver'}\n",
    "\n",
    "# create a new browser object by default it is firefox the default one\n",
    "browser = Browser('chrome', **executable_path, headless = False) #headless true will open but not show interactions"
   ]
  },
  {
   "cell_type": "code",
   "execution_count": 73,
   "metadata": {},
   "outputs": [
    {
     "data": {
      "text/plain": [
       "'NASA’s newest rover recorded audio of itself crunching over the surface of the Red Planet, adding a whole new dimension to Mars exploration.'"
      ]
     },
     "execution_count": 73,
     "metadata": {},
     "output_type": "execute_result"
    }
   ],
   "source": [
    "nasa_url = 'https://mars.nasa.gov/news/?page=0&per_page=40&order=publish_date+desc%2Ccreated_at+desc&search=&category=19%2C165%2C184%2C204&blank_scope=Latest'\n",
    "\n",
    "# Open chrome and visit url\n",
    "browser.visit(nasa_url)\n",
    "\n",
    "html = browser.html\n",
    "\n",
    "soup = BeautifulSoup(html, 'html.parser')\n",
    "\n",
    "content_title = soup.find_all(class_='content_title')\n",
    "body_article = soup.find_all(class_='article_teaser_body')\n",
    "\n",
    "news_title=[]\n",
    "news_paragraph = []\n",
    "\n",
    "for title in content_title:\n",
    "    try:\n",
    "        news_title.append(title.a.text.strip())\n",
    "    except:\n",
    "        pass\n",
    "    \n",
    "for body in body_article:\n",
    "    try:\n",
    "#         print(body.text.strip())\n",
    "        news_paragraph.append(body.text.strip())\n",
    "    except:\n",
    "        pass\n",
    "    \n",
    "recent_news = news_title[0]\n",
    "recent_paragraph = news_paragraph[0]\n",
    "recent_paragraph"
   ]
  },
  {
   "cell_type": "code",
   "execution_count": 74,
   "metadata": {},
   "outputs": [],
   "source": [
    "browser.quit()"
   ]
  },
  {
   "cell_type": "code",
   "execution_count": 145,
   "metadata": {},
   "outputs": [
    {
     "data": {
      "text/plain": [
       "'https://data-class-jpl-space.s3.amazonaws.com/JPL_Space/image/featured/mars2.jpg'"
      ]
     },
     "execution_count": 145,
     "metadata": {},
     "output_type": "execute_result"
    }
   ],
   "source": [
    "# JPL Website\n",
    "jpl_url = 'https://data-class-jpl-space.s3.amazonaws.com/JPL_Space/index.html'\n",
    "\n",
    "# Open chrome and visit url\n",
    "browser.visit(jpl_url)\n",
    "\n",
    "html = browser.html\n",
    "\n",
    "soup = BeautifulSoup(html, 'html.parser')\n",
    "\n",
    "main_image = soup.find_all('img', class_='headerimage')\n",
    "for image in main_image:\n",
    "#     print(image['src'])\n",
    "    featured_image_url = f\"https://data-class-jpl-space.s3.amazonaws.com/JPL_Space/{image['src']}\"\n",
    "featured_image_url\n",
    "\n",
    "# browser.find_by_tag('img').right_click()"
   ]
  },
  {
   "cell_type": "code",
   "execution_count": 139,
   "metadata": {},
   "outputs": [],
   "source": [
    "browser.quit()"
   ]
  },
  {
   "cell_type": "code",
   "execution_count": 140,
   "metadata": {},
   "outputs": [],
   "source": [
    "# jpl_url = 'https://data-class-jpl-space.s3.amazonaws.com/JPL_Space/index.html'\n",
    "\n",
    "# # Open chrome and visit url\n",
    "# browser.visit(jpl_url)\n",
    "\n",
    "# for x in range(1, 3):\n",
    "#     html = browser.html\n",
    "#     soup = BeautifulSoup(html, 'html.parser')\n",
    "#     if x == 1:\n",
    "#         browser.click_link_by_partial_text('FULL IMAGE')\n",
    "        \n",
    "#     elif x == 2:\n",
    "#         main_image = soup.find_all('img')\n",
    "# main_image"
   ]
  },
  {
   "cell_type": "code",
   "execution_count": null,
   "metadata": {},
   "outputs": [],
   "source": []
  }
 ],
 "metadata": {
  "kernelspec": {
   "display_name": "Python [conda env:PythonData] *",
   "language": "python",
   "name": "conda-env-PythonData-py"
  },
  "language_info": {
   "codemirror_mode": {
    "name": "ipython",
    "version": 3
   },
   "file_extension": ".py",
   "mimetype": "text/x-python",
   "name": "python",
   "nbconvert_exporter": "python",
   "pygments_lexer": "ipython3",
   "version": "3.6.10"
  }
 },
 "nbformat": 4,
 "nbformat_minor": 4
}
